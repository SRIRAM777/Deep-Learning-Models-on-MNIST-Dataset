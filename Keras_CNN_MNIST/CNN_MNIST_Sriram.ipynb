{
 "cells": [
  {
   "cell_type": "markdown",
   "metadata": {
    "colab_type": "text",
    "id": "PSU-esYvaSIR"
   },
   "source": [
    "### Various CNN Architectures on MNIST Dataset"
   ]
  },
  {
   "cell_type": "code",
   "execution_count": 1,
   "metadata": {
    "colab": {
     "base_uri": "https://localhost:8080/",
     "height": 34
    },
    "colab_type": "code",
    "id": "jzTX24vSOx0g",
    "outputId": "28f74aea-d562-41ff-d29f-1d0e258c44fe"
   },
   "outputs": [
    {
     "name": "stderr",
     "output_type": "stream",
     "text": [
      "Using TensorFlow backend.\n"
     ]
    }
   ],
   "source": [
    "from __future__ import print_function\n",
    "import keras\n",
    "from keras.datasets import mnist\n",
    "from keras.models import Sequential\n",
    "from keras.layers import Dense, Dropout, Flatten\n",
    "from keras.layers import Conv2D, MaxPooling2D\n",
    "from keras import backend as K"
   ]
  },
  {
   "cell_type": "markdown",
   "metadata": {
    "colab_type": "text",
    "id": "wCB8I3H0T4Jz"
   },
   "source": [
    "### Parameters"
   ]
  },
  {
   "cell_type": "code",
   "execution_count": 0,
   "metadata": {
    "colab": {},
    "colab_type": "code",
    "id": "yu-4L6ENPBct"
   },
   "outputs": [],
   "source": [
    "batch_size = 128\n",
    "num_classes = 10\n",
    "epochs = 12"
   ]
  },
  {
   "cell_type": "code",
   "execution_count": 0,
   "metadata": {
    "colab": {},
    "colab_type": "code",
    "id": "NDuVrhCNPBjJ"
   },
   "outputs": [],
   "source": [
    "img_rows, img_cols = 28, 28"
   ]
  },
  {
   "cell_type": "markdown",
   "metadata": {
    "colab_type": "text",
    "id": "GGQ0teOvT8gV"
   },
   "source": [
    "### Loading the dataset"
   ]
  },
  {
   "cell_type": "code",
   "execution_count": 0,
   "metadata": {
    "colab": {},
    "colab_type": "code",
    "id": "qqw70chyPBm5"
   },
   "outputs": [],
   "source": [
    "(x_train, y_train), (x_test, y_test) = mnist.load_data()"
   ]
  },
  {
   "cell_type": "code",
   "execution_count": 0,
   "metadata": {
    "colab": {},
    "colab_type": "code",
    "id": "bkyomxYTPBqj"
   },
   "outputs": [],
   "source": [
    "if K.image_data_format() == 'channels_first':\n",
    "    x_train = x_train.reshape(x_train.shape[0], 1, img_rows, img_cols)\n",
    "    x_test = x_test.reshape(x_test.shape[0], 1, img_rows, img_cols)\n",
    "    input_shape = (1, img_rows, img_cols)\n",
    "else:\n",
    "    x_train = x_train.reshape(x_train.shape[0], img_rows, img_cols, 1)\n",
    "    x_test = x_test.reshape(x_test.shape[0], img_rows, img_cols, 1)\n",
    "    input_shape = (img_rows, img_cols, 1)"
   ]
  },
  {
   "cell_type": "code",
   "execution_count": 0,
   "metadata": {
    "colab": {},
    "colab_type": "code",
    "id": "fwh8t1S7PBuQ"
   },
   "outputs": [],
   "source": [
    "x_train = x_train.astype('float32')\n",
    "x_test = x_test.astype('float32')"
   ]
  },
  {
   "cell_type": "markdown",
   "metadata": {
    "colab_type": "text",
    "id": "YbeEK1w5UCSu"
   },
   "source": [
    "### Data Normalization"
   ]
  },
  {
   "cell_type": "code",
   "execution_count": 0,
   "metadata": {
    "colab": {},
    "colab_type": "code",
    "id": "lqFEIq2MPB-o"
   },
   "outputs": [],
   "source": [
    "x_train /= 255\n",
    "x_test /= 255"
   ]
  },
  {
   "cell_type": "code",
   "execution_count": 9,
   "metadata": {
    "colab": {
     "base_uri": "https://localhost:8080/",
     "height": 68
    },
    "colab_type": "code",
    "id": "fD6pvGwQP5Wy",
    "outputId": "683129d4-f51e-4683-bc65-74dbe7012a91"
   },
   "outputs": [
    {
     "name": "stdout",
     "output_type": "stream",
     "text": [
      "x_train shape: (60000, 28, 28, 1)\n",
      "60000 train samples\n",
      "10000 test samples\n"
     ]
    }
   ],
   "source": [
    "print('x_train shape:', x_train.shape)\n",
    "print(x_train.shape[0], 'train samples')\n",
    "print(x_test.shape[0], 'test samples')"
   ]
  },
  {
   "cell_type": "markdown",
   "metadata": {
    "colab_type": "text",
    "id": "GPNvnpiSUKyF"
   },
   "source": [
    "### One Hot Encoding of data"
   ]
  },
  {
   "cell_type": "code",
   "execution_count": 0,
   "metadata": {
    "colab": {},
    "colab_type": "code",
    "id": "m0gV4XrZP5aO"
   },
   "outputs": [],
   "source": [
    "y_train = keras.utils.to_categorical(y_train, num_classes)\n",
    "y_test = keras.utils.to_categorical(y_test, num_classes)"
   ]
  },
  {
   "cell_type": "markdown",
   "metadata": {
    "colab_type": "text",
    "id": "d1-hvdkzUVmB"
   },
   "source": [
    "### Model 1 - 2 Conv.Layers -> Max Pooling Layer -> Dense Layers, Kernel Sizes -> (3,3),Stride -> (1,1) "
   ]
  },
  {
   "cell_type": "code",
   "execution_count": 11,
   "metadata": {
    "colab": {
     "base_uri": "https://localhost:8080/",
     "height": 408
    },
    "colab_type": "code",
    "id": "zcLOk9eNP5dQ",
    "outputId": "12d13315-eac2-47ec-ba61-fae78754855b"
   },
   "outputs": [
    {
     "name": "stdout",
     "output_type": "stream",
     "text": [
      "_________________________________________________________________\n",
      "Layer (type)                 Output Shape              Param #   \n",
      "=================================================================\n",
      "conv2d_1 (Conv2D)            (None, 26, 26, 32)        320       \n",
      "_________________________________________________________________\n",
      "conv2d_2 (Conv2D)            (None, 24, 24, 64)        18496     \n",
      "_________________________________________________________________\n",
      "max_pooling2d_1 (MaxPooling2 (None, 12, 12, 64)        0         \n",
      "_________________________________________________________________\n",
      "dropout_1 (Dropout)          (None, 12, 12, 64)        0         \n",
      "_________________________________________________________________\n",
      "flatten_1 (Flatten)          (None, 9216)              0         \n",
      "_________________________________________________________________\n",
      "dense_1 (Dense)              (None, 128)               1179776   \n",
      "_________________________________________________________________\n",
      "dropout_2 (Dropout)          (None, 128)               0         \n",
      "_________________________________________________________________\n",
      "dense_2 (Dense)              (None, 10)                1290      \n",
      "=================================================================\n",
      "Total params: 1,199,882\n",
      "Trainable params: 1,199,882\n",
      "Non-trainable params: 0\n",
      "_________________________________________________________________\n"
     ]
    }
   ],
   "source": [
    "model = Sequential()\n",
    "model.add(Conv2D(32, kernel_size=(3, 3),activation='relu',input_shape=input_shape))\n",
    "model.add(Conv2D(64, (3, 3), activation='relu'))\n",
    "model.add(MaxPooling2D(pool_size=(2, 2)))\n",
    "model.add(Dropout(0.25))\n",
    "model.add(Flatten())\n",
    "model.add(Dense(128, activation='relu'))\n",
    "model.add(Dropout(0.5))\n",
    "model.add(Dense(num_classes, activation='softmax'))\n",
    "model.summary()"
   ]
  },
  {
   "cell_type": "code",
   "execution_count": 12,
   "metadata": {
    "colab": {
     "base_uri": "https://localhost:8080/",
     "height": 442
    },
    "colab_type": "code",
    "id": "4mbf6TnWP5gU",
    "outputId": "9e713195-387b-4b9f-a404-359a9bc758c8"
   },
   "outputs": [
    {
     "name": "stdout",
     "output_type": "stream",
     "text": [
      "Train on 60000 samples, validate on 10000 samples\n",
      "Epoch 1/12\n",
      "60000/60000 [==============================] - 11s 185us/step - loss: 0.2711 - acc: 0.9155 - val_loss: 0.0522 - val_acc: 0.9841\n",
      "Epoch 2/12\n",
      "60000/60000 [==============================] - 9s 151us/step - loss: 0.0881 - acc: 0.9734 - val_loss: 0.0396 - val_acc: 0.9871\n",
      "Epoch 3/12\n",
      "60000/60000 [==============================] - 9s 154us/step - loss: 0.0672 - acc: 0.9800 - val_loss: 0.0339 - val_acc: 0.9878\n",
      "Epoch 4/12\n",
      "60000/60000 [==============================] - 9s 153us/step - loss: 0.0553 - acc: 0.9837 - val_loss: 0.0327 - val_acc: 0.9895\n",
      "Epoch 5/12\n",
      "60000/60000 [==============================] - 9s 154us/step - loss: 0.0476 - acc: 0.9859 - val_loss: 0.0289 - val_acc: 0.9894\n",
      "Epoch 6/12\n",
      "60000/60000 [==============================] - 9s 155us/step - loss: 0.0415 - acc: 0.9875 - val_loss: 0.0282 - val_acc: 0.9911\n",
      "Epoch 7/12\n",
      "60000/60000 [==============================] - 9s 152us/step - loss: 0.0369 - acc: 0.9890 - val_loss: 0.0302 - val_acc: 0.9903\n",
      "Epoch 8/12\n",
      "60000/60000 [==============================] - 9s 151us/step - loss: 0.0343 - acc: 0.9893 - val_loss: 0.0279 - val_acc: 0.9907\n",
      "Epoch 9/12\n",
      "60000/60000 [==============================] - 9s 150us/step - loss: 0.0325 - acc: 0.9896 - val_loss: 0.0317 - val_acc: 0.9905\n",
      "Epoch 10/12\n",
      "60000/60000 [==============================] - 9s 153us/step - loss: 0.0302 - acc: 0.9906 - val_loss: 0.0260 - val_acc: 0.9914\n",
      "Epoch 11/12\n",
      "60000/60000 [==============================] - 9s 153us/step - loss: 0.0275 - acc: 0.9913 - val_loss: 0.0271 - val_acc: 0.9919\n",
      "Epoch 12/12\n",
      "60000/60000 [==============================] - 9s 154us/step - loss: 0.0261 - acc: 0.9923 - val_loss: 0.0265 - val_acc: 0.9915\n"
     ]
    }
   ],
   "source": [
    "model.compile(loss=keras.losses.categorical_crossentropy,optimizer=keras.optimizers.Adadelta(),metrics=['accuracy'])\n",
    "history = model.fit(x_train, y_train,batch_size=batch_size,epochs=epochs,verbose=1,validation_data=(x_test, y_test))"
   ]
  },
  {
   "cell_type": "code",
   "execution_count": 13,
   "metadata": {
    "colab": {
     "base_uri": "https://localhost:8080/",
     "height": 51
    },
    "colab_type": "code",
    "id": "e9SsLs7FP5jT",
    "outputId": "9dc5265a-cb8d-4f20-fc39-3a5ebf49e836"
   },
   "outputs": [
    {
     "name": "stdout",
     "output_type": "stream",
     "text": [
      "Test loss: 0.026473936617426534\n",
      "Test accuracy: 0.9915\n"
     ]
    }
   ],
   "source": [
    "score = model.evaluate(x_test, y_test, verbose=0)\n",
    "print('Test loss:', score[0])\n",
    "print('Test accuracy:', score[1])"
   ]
  },
  {
   "cell_type": "markdown",
   "metadata": {
    "colab_type": "text",
    "id": "iuKFKzLoh-nu"
   },
   "source": [
    "### Dynamic plot showing the crossentropy loss for train and test set for each epoch"
   ]
  },
  {
   "cell_type": "code",
   "execution_count": 14,
   "metadata": {
    "colab": {
     "base_uri": "https://localhost:8080/",
     "height": 279
    },
    "colab_type": "code",
    "id": "Y3YHGfjHX6ci",
    "outputId": "c17e80b3-357f-4e9e-b0bd-281b5b1402b2"
   },
   "outputs": [
    {
     "data": {
      "image/png": "[encoded data removed]",
      "text/plain": [
       "<matplotlib.figure.Figure at 0x7f5443c92c18>"
      ]
     },
     "metadata": {
      "tags": []
     },
     "output_type": "display_data"
    }
   ],
   "source": [
    "%matplotlib inline\n",
    "fig,ax = plt.subplots(1,1)\n",
    "ax.set_xlabel('epoch') ; ax.set_ylabel('Categorical Crossentropy Loss')\n",
    "vy = history.history['val_loss']\n",
    "ty = history.history['loss']\n",
    "x = list(range(1,epochs+1))\n",
    "ax.plot(x, vy, 'b', label=\"Validation Loss\")\n",
    "ax.plot(x, ty, 'r', label=\"Train Loss\")\n",
    "plt.legend()\n",
    "plt.grid()\n",
    "fig.canvas.draw()"
   ]
  },
  {
   "cell_type": "markdown",
   "metadata": {
    "colab_type": "text",
    "id": "l_sscD57WMPW"
   },
   "source": [
    "### Model 2 - 2 Conv.Layers -> Max Pooling Layer -> 1 Conv.Layer -> Max Pooling Layer->Dense Layers, Kernel Sizes -> (3,3),Stride -> (1,1)"
   ]
  },
  {
   "cell_type": "code",
   "execution_count": 15,
   "metadata": {
    "colab": {
     "base_uri": "https://localhost:8080/",
     "height": 510
    },
    "colab_type": "code",
    "id": "AQ1JccJIP5qI",
    "outputId": "69ff0218-2b6e-44db-86b8-8a51e6810765"
   },
   "outputs": [
    {
     "name": "stdout",
     "output_type": "stream",
     "text": [
      "_________________________________________________________________\n",
      "Layer (type)                 Output Shape              Param #   \n",
      "=================================================================\n",
      "conv2d_3 (Conv2D)            (None, 26, 26, 32)        320       \n",
      "_________________________________________________________________\n",
      "conv2d_4 (Conv2D)            (None, 24, 24, 64)        18496     \n",
      "_________________________________________________________________\n",
      "max_pooling2d_2 (MaxPooling2 (None, 12, 12, 64)        0         \n",
      "_________________________________________________________________\n",
      "dropout_3 (Dropout)          (None, 12, 12, 64)        0         \n",
      "_________________________________________________________________\n",
      "conv2d_5 (Conv2D)            (None, 8, 8, 48)          76848     \n",
      "_________________________________________________________________\n",
      "max_pooling2d_3 (MaxPooling2 (None, 4, 4, 48)          0         \n",
      "_________________________________________________________________\n",
      "dropout_4 (Dropout)          (None, 4, 4, 48)          0         \n",
      "_________________________________________________________________\n",
      "flatten_2 (Flatten)          (None, 768)               0         \n",
      "_________________________________________________________________\n",
      "dense_3 (Dense)              (None, 128)               98432     \n",
      "_________________________________________________________________\n",
      "dropout_5 (Dropout)          (None, 128)               0         \n",
      "_________________________________________________________________\n",
      "dense_4 (Dense)              (None, 10)                1290      \n",
      "=================================================================\n",
      "Total params: 195,386\n",
      "Trainable params: 195,386\n",
      "Non-trainable params: 0\n",
      "_________________________________________________________________\n"
     ]
    }
   ],
   "source": [
    "model = Sequential()\n",
    "model.add(Conv2D(32, kernel_size=(3, 3),activation='relu',input_shape=input_shape))\n",
    "model.add(Conv2D(64, (3, 3), activation='relu'))\n",
    "model.add(MaxPooling2D(pool_size=(2, 2)))\n",
    "model.add(Dropout(0.25))\n",
    "model.add(Conv2D(48, (5, 5), activation='relu'))\n",
    "model.add(MaxPooling2D(pool_size=(2, 2)))\n",
    "model.add(Dropout(0.25))\n",
    "model.add(Flatten())\n",
    "model.add(Dense(128, activation='relu'))\n",
    "model.add(Dropout(0.5))\n",
    "model.add(Dense(num_classes, activation='softmax'))\n",
    "model.summary()"
   ]
  },
  {
   "cell_type": "code",
   "execution_count": 16,
   "metadata": {
    "colab": {
     "base_uri": "https://localhost:8080/",
     "height": 442
    },
    "colab_type": "code",
    "id": "ElPVDlWdVGLi",
    "outputId": "4158e9fe-69c7-4fea-9f68-972952b981ed"
   },
   "outputs": [
    {
     "name": "stdout",
     "output_type": "stream",
     "text": [
      "Train on 60000 samples, validate on 10000 samples\n",
      "Epoch 1/12\n",
      "60000/60000 [==============================] - 11s 180us/step - loss: 0.3101 - acc: 0.9020 - val_loss: 0.0538 - val_acc: 0.9828\n",
      "Epoch 2/12\n",
      "60000/60000 [==============================] - 10s 167us/step - loss: 0.0922 - acc: 0.9721 - val_loss: 0.0310 - val_acc: 0.9903\n",
      "Epoch 3/12\n",
      "60000/60000 [==============================] - 10s 166us/step - loss: 0.0677 - acc: 0.9798 - val_loss: 0.0250 - val_acc: 0.9917\n",
      "Epoch 4/12\n",
      "60000/60000 [==============================] - 10s 167us/step - loss: 0.0564 - acc: 0.9834 - val_loss: 0.0240 - val_acc: 0.9922\n",
      "Epoch 5/12\n",
      "60000/60000 [==============================] - 10s 170us/step - loss: 0.0497 - acc: 0.9852 - val_loss: 0.0245 - val_acc: 0.9927\n",
      "Epoch 6/12\n",
      "60000/60000 [==============================] - 10s 170us/step - loss: 0.0440 - acc: 0.9868 - val_loss: 0.0240 - val_acc: 0.9928\n",
      "Epoch 7/12\n",
      "60000/60000 [==============================] - 10s 170us/step - loss: 0.0389 - acc: 0.9881 - val_loss: 0.0202 - val_acc: 0.9932\n",
      "Epoch 8/12\n",
      "60000/60000 [==============================] - 10s 168us/step - loss: 0.0376 - acc: 0.9883 - val_loss: 0.0203 - val_acc: 0.9936\n",
      "Epoch 9/12\n",
      "60000/60000 [==============================] - 10s 167us/step - loss: 0.0337 - acc: 0.9902 - val_loss: 0.0193 - val_acc: 0.9939\n",
      "Epoch 10/12\n",
      "60000/60000 [==============================] - 10s 166us/step - loss: 0.0299 - acc: 0.9906 - val_loss: 0.0187 - val_acc: 0.9946\n",
      "Epoch 11/12\n",
      "60000/60000 [==============================] - 10s 169us/step - loss: 0.0308 - acc: 0.9908 - val_loss: 0.0190 - val_acc: 0.9937\n",
      "Epoch 12/12\n",
      "60000/60000 [==============================] - 10s 170us/step - loss: 0.0290 - acc: 0.9915 - val_loss: 0.0162 - val_acc: 0.9945\n"
     ]
    }
   ],
   "source": [
    "model.compile(loss=keras.losses.categorical_crossentropy,optimizer=keras.optimizers.Adadelta(),metrics=['accuracy'])\n",
    "history = model.fit(x_train, y_train,batch_size=batch_size,epochs=epochs,verbose=1,validation_data=(x_test, y_test))"
   ]
  },
  {
   "cell_type": "code",
   "execution_count": 17,
   "metadata": {
    "colab": {
     "base_uri": "https://localhost:8080/",
     "height": 51
    },
    "colab_type": "code",
    "id": "ATyWt4_MVGO5",
    "outputId": "ec53b7dc-8e45-4879-f435-fb4bba4d72df"
   },
   "outputs": [
    {
     "name": "stdout",
     "output_type": "stream",
     "text": [
      "Test loss: 0.016197610618577163\n",
      "Test accuracy: 0.9945\n"
     ]
    }
   ],
   "source": [
    "score = model.evaluate(x_test, y_test, verbose=0)\n",
    "print('Test loss:', score[0])\n",
    "print('Test accuracy:', score[1])"
   ]
  },
  {
   "cell_type": "markdown",
   "metadata": {
    "colab_type": "text",
    "id": "YHAheEzOiBy1"
   },
   "source": [
    "### Dynamic plot showing the crossentropy loss for train and test set for each epoch"
   ]
  },
  {
   "cell_type": "code",
   "execution_count": 18,
   "metadata": {
    "colab": {
     "base_uri": "https://localhost:8080/",
     "height": 279
    },
    "colab_type": "code",
    "id": "yE88hWjZYmm_",
    "outputId": "6d392e13-8647-4042-85b3-21b79e4965d6"
   },
   "outputs": [
    {
     "data": {
      "image/png": "[encoded data removed]",
      "text/plain": [
       "<matplotlib.figure.Figure at 0x7f5449d3b588>"
      ]
     },
     "metadata": {
      "tags": []
     },
     "output_type": "display_data"
    }
   ],
   "source": [
    "%matplotlib inline\n",
    "fig,ax = plt.subplots(1,1)\n",
    "ax.set_xlabel('epoch') ; ax.set_ylabel('Categorical Crossentropy Loss')\n",
    "vy = history.history['val_loss']\n",
    "ty = history.history['loss']\n",
    "x = list(range(1,epochs+1))\n",
    "ax.plot(x, vy, 'b', label=\"Validation Loss\")\n",
    "ax.plot(x, ty, 'r', label=\"Train Loss\")\n",
    "plt.legend()\n",
    "plt.grid()\n",
    "fig.canvas.draw()"
   ]
  },
  {
   "cell_type": "markdown",
   "metadata": {
    "colab_type": "text",
    "id": "OaaSLPIqXBiy"
   },
   "source": [
    "### Model 3 - 2 Conv.Layers -> Max Pooling Layer -> 1 Conv.Layer -> Max Pooling Layer->Dense Layers, Kernel Sizes -> (3,3) (5,5),Stride -> (2,2)"
   ]
  },
  {
   "cell_type": "code",
   "execution_count": 19,
   "metadata": {
    "colab": {
     "base_uri": "https://localhost:8080/",
     "height": 578
    },
    "colab_type": "code",
    "id": "-GIw403RVGVP",
    "outputId": "508575cd-35a1-4de0-8ec5-cf1ca7dd1a38"
   },
   "outputs": [
    {
     "name": "stdout",
     "output_type": "stream",
     "text": [
      "_________________________________________________________________\n",
      "Layer (type)                 Output Shape              Param #   \n",
      "=================================================================\n",
      "conv2d_6 (Conv2D)            (None, 13, 13, 32)        320       \n",
      "_________________________________________________________________\n",
      "conv2d_7 (Conv2D)            (None, 9, 9, 64)          51264     \n",
      "_________________________________________________________________\n",
      "max_pooling2d_4 (MaxPooling2 (None, 4, 4, 64)          0         \n",
      "_________________________________________________________________\n",
      "dropout_6 (Dropout)          (None, 4, 4, 64)          0         \n",
      "_________________________________________________________________\n",
      "conv2d_8 (Conv2D)            (None, 2, 2, 32)          18464     \n",
      "_________________________________________________________________\n",
      "max_pooling2d_5 (MaxPooling2 (None, 1, 1, 32)          0         \n",
      "_________________________________________________________________\n",
      "dropout_7 (Dropout)          (None, 1, 1, 32)          0         \n",
      "_________________________________________________________________\n",
      "flatten_3 (Flatten)          (None, 32)                0         \n",
      "_________________________________________________________________\n",
      "dense_5 (Dense)              (None, 128)               4224      \n",
      "_________________________________________________________________\n",
      "dropout_8 (Dropout)          (None, 128)               0         \n",
      "_________________________________________________________________\n",
      "dense_6 (Dense)              (None, 64)                8256      \n",
      "_________________________________________________________________\n",
      "dropout_9 (Dropout)          (None, 64)                0         \n",
      "_________________________________________________________________\n",
      "dense_7 (Dense)              (None, 10)                650       \n",
      "=================================================================\n",
      "Total params: 83,178\n",
      "Trainable params: 83,178\n",
      "Non-trainable params: 0\n",
      "_________________________________________________________________\n"
     ]
    }
   ],
   "source": [
    "model = Sequential()\n",
    "model.add(Conv2D(32, kernel_size=(3, 3),activation='relu',input_shape=input_shape,strides=(2,2),kernel_initializer='he_uniform'))\n",
    "model.add(Conv2D(64, (5, 5), activation='relu'))\n",
    "model.add(MaxPooling2D(pool_size=(2, 2)))\n",
    "model.add(Dropout(0.25))\n",
    "model.add(Conv2D(32, (3, 3), activation='relu'))\n",
    "model.add(MaxPooling2D(pool_size=(2, 2)))\n",
    "model.add(Dropout(0.25))\n",
    "model.add(Flatten())\n",
    "model.add(Dense(128, activation='relu'))\n",
    "model.add(Dropout(0.5))\n",
    "model.add(Dense(64, activation='relu'))\n",
    "model.add(Dropout(0.5))\n",
    "model.add(Dense(num_classes, activation='softmax'))\n",
    "model.summary()"
   ]
  },
  {
   "cell_type": "code",
   "execution_count": 20,
   "metadata": {
    "colab": {
     "base_uri": "https://localhost:8080/",
     "height": 442
    },
    "colab_type": "code",
    "id": "_RpzF74RVGY3",
    "outputId": "bf63e4a2-a971-4cf7-8178-8d9a55d7758b"
   },
   "outputs": [
    {
     "name": "stdout",
     "output_type": "stream",
     "text": [
      "Train on 60000 samples, validate on 10000 samples\n",
      "Epoch 1/12\n",
      "60000/60000 [==============================] - 8s 126us/step - loss: 0.9709 - acc: 0.6688 - val_loss: 0.1504 - val_acc: 0.9615\n",
      "Epoch 2/12\n",
      "60000/60000 [==============================] - 7s 120us/step - loss: 0.3179 - acc: 0.9125 - val_loss: 0.0826 - val_acc: 0.9783\n",
      "Epoch 3/12\n",
      "60000/60000 [==============================] - 7s 119us/step - loss: 0.2171 - acc: 0.9436 - val_loss: 0.0648 - val_acc: 0.9817\n",
      "Epoch 4/12\n",
      "60000/60000 [==============================] - 7s 119us/step - loss: 0.1800 - acc: 0.9546 - val_loss: 0.0558 - val_acc: 0.9846\n",
      "Epoch 5/12\n",
      "60000/60000 [==============================] - 7s 118us/step - loss: 0.1564 - acc: 0.9604 - val_loss: 0.0438 - val_acc: 0.9883\n",
      "Epoch 6/12\n",
      "60000/60000 [==============================] - 7s 118us/step - loss: 0.1360 - acc: 0.9655 - val_loss: 0.0485 - val_acc: 0.9866\n",
      "Epoch 7/12\n",
      "60000/60000 [==============================] - 7s 121us/step - loss: 0.1240 - acc: 0.9688 - val_loss: 0.0447 - val_acc: 0.9874\n",
      "Epoch 8/12\n",
      "60000/60000 [==============================] - 7s 121us/step - loss: 0.1143 - acc: 0.9713 - val_loss: 0.0430 - val_acc: 0.9884\n",
      "Epoch 9/12\n",
      "60000/60000 [==============================] - 7s 121us/step - loss: 0.1095 - acc: 0.9728 - val_loss: 0.0403 - val_acc: 0.9894\n",
      "Epoch 10/12\n",
      "60000/60000 [==============================] - 7s 120us/step - loss: 0.1030 - acc: 0.9747 - val_loss: 0.0367 - val_acc: 0.9896\n",
      "Epoch 11/12\n",
      "60000/60000 [==============================] - 7s 121us/step - loss: 0.0930 - acc: 0.9763 - val_loss: 0.0362 - val_acc: 0.9900\n",
      "Epoch 12/12\n",
      "60000/60000 [==============================] - 7s 121us/step - loss: 0.0857 - acc: 0.9785 - val_loss: 0.0432 - val_acc: 0.9892\n"
     ]
    }
   ],
   "source": [
    "model.compile(loss=keras.losses.categorical_crossentropy,optimizer=keras.optimizers.Adam(),metrics=['accuracy'])\n",
    "history = model.fit(x_train, y_train,batch_size=batch_size,epochs=epochs,verbose=1,validation_data=(x_test, y_test))"
   ]
  },
  {
   "cell_type": "code",
   "execution_count": 21,
   "metadata": {
    "colab": {
     "base_uri": "https://localhost:8080/",
     "height": 51
    },
    "colab_type": "code",
    "id": "EQSMAauZYuL-",
    "outputId": "9f82ecb2-4f84-42c3-acc8-a1de143e3676"
   },
   "outputs": [
    {
     "name": "stdout",
     "output_type": "stream",
     "text": [
      "Test loss: 0.04316723841981484\n",
      "Test accuracy: 0.9892\n"
     ]
    }
   ],
   "source": [
    "score = model.evaluate(x_test, y_test, verbose=0)\n",
    "print('Test loss:', score[0])\n",
    "print('Test accuracy:', score[1])"
   ]
  },
  {
   "cell_type": "markdown",
   "metadata": {
    "colab_type": "text",
    "id": "uvIXgK1diDjn"
   },
   "source": [
    "### Dynamic plot showing the crossentropy loss for train and test set for each epoch"
   ]
  },
  {
   "cell_type": "code",
   "execution_count": 22,
   "metadata": {
    "colab": {
     "base_uri": "https://localhost:8080/",
     "height": 280
    },
    "colab_type": "code",
    "id": "j3Cic3UeYpZD",
    "outputId": "27c59265-b511-4a3c-fee4-6b6bd24f6768"
   },
   "outputs": [
    {
     "data": {
      "image/png": "[encoded data removed]",
      "text/plain": [
       "<matplotlib.figure.Figure at 0x7f544150a550>"
      ]
     },
     "metadata": {
      "tags": []
     },
     "output_type": "display_data"
    }
   ],
   "source": [
    "%matplotlib inline\n",
    "fig,ax = plt.subplots(1,1)\n",
    "ax.set_xlabel('epoch') ; ax.set_ylabel('Categorical Crossentropy Loss')\n",
    "vy = history.history['val_loss']\n",
    "ty = history.history['loss']\n",
    "x = list(range(1,epochs+1))\n",
    "ax.plot(x, vy, 'b', label=\"Validation Loss\")\n",
    "ax.plot(x, ty, 'r', label=\"Train Loss\")\n",
    "plt.legend()\n",
    "plt.grid()\n",
    "fig.canvas.draw()"
   ]
  },
  {
   "cell_type": "markdown",
   "metadata": {
    "colab_type": "text",
    "id": "hG6-hYg1Y6hu"
   },
   "source": [
    "### Model 4 - 3 Conv.Layers -> Max Pooling Layer -> 1 Conv.Layer -> Max Pooling Layer->Dense Layers, Kernel Sizes -> (3,3) (5,5),Stride -> (2,2)"
   ]
  },
  {
   "cell_type": "code",
   "execution_count": 23,
   "metadata": {
    "colab": {
     "base_uri": "https://localhost:8080/",
     "height": 680
    },
    "colab_type": "code",
    "id": "3o-dw12JYuPV",
    "outputId": "1be7de86-ea2b-4e90-8680-ba71c37af15a"
   },
   "outputs": [
    {
     "name": "stdout",
     "output_type": "stream",
     "text": [
      "_________________________________________________________________\n",
      "Layer (type)                 Output Shape              Param #   \n",
      "=================================================================\n",
      "conv2d_9 (Conv2D)            (None, 13, 13, 32)        320       \n",
      "_________________________________________________________________\n",
      "conv2d_10 (Conv2D)           (None, 9, 9, 64)          51264     \n",
      "_________________________________________________________________\n",
      "conv2d_11 (Conv2D)           (None, 7, 7, 64)          36928     \n",
      "_________________________________________________________________\n",
      "max_pooling2d_6 (MaxPooling2 (None, 3, 3, 64)          0         \n",
      "_________________________________________________________________\n",
      "dropout_10 (Dropout)         (None, 3, 3, 64)          0         \n",
      "_________________________________________________________________\n",
      "conv2d_12 (Conv2D)           (None, 1, 1, 64)          36928     \n",
      "_________________________________________________________________\n",
      "max_pooling2d_7 (MaxPooling2 (None, 1, 1, 64)          0         \n",
      "_________________________________________________________________\n",
      "dropout_11 (Dropout)         (None, 1, 1, 64)          0         \n",
      "_________________________________________________________________\n",
      "flatten_4 (Flatten)          (None, 64)                0         \n",
      "_________________________________________________________________\n",
      "dense_8 (Dense)              (None, 128)               8320      \n",
      "_________________________________________________________________\n",
      "dropout_12 (Dropout)         (None, 128)               0         \n",
      "_________________________________________________________________\n",
      "dense_9 (Dense)              (None, 64)                8256      \n",
      "_________________________________________________________________\n",
      "dropout_13 (Dropout)         (None, 64)                0         \n",
      "_________________________________________________________________\n",
      "dense_10 (Dense)             (None, 32)                2080      \n",
      "_________________________________________________________________\n",
      "dropout_14 (Dropout)         (None, 32)                0         \n",
      "_________________________________________________________________\n",
      "dense_11 (Dense)             (None, 10)                330       \n",
      "=================================================================\n",
      "Total params: 144,426\n",
      "Trainable params: 144,426\n",
      "Non-trainable params: 0\n",
      "_________________________________________________________________\n"
     ]
    }
   ],
   "source": [
    "model = Sequential()\n",
    "model.add(Conv2D(32, kernel_size=(3, 3),activation='relu',input_shape=input_shape,strides=(2,2),kernel_initializer='he_uniform'))\n",
    "model.add(Conv2D(64, (5, 5), activation='relu'))\n",
    "model.add(Conv2D(64, (3, 3), activation='relu'))\n",
    "model.add(MaxPooling2D(pool_size=(2, 2)))\n",
    "model.add(Dropout(0.5))\n",
    "model.add(Conv2D(64, (3, 3), activation='relu'))\n",
    "model.add(MaxPooling2D(pool_size=(1, 1)))\n",
    "model.add(Dropout(0.5))\n",
    "model.add(Flatten())\n",
    "model.add(Dense(128, activation='relu'))\n",
    "model.add(Dropout(0.5))\n",
    "model.add(Dense(64, activation='relu'))\n",
    "model.add(Dropout(0.5))\n",
    "model.add(Dense(32, activation='relu'))\n",
    "model.add(Dropout(0.5))\n",
    "model.add(Dense(num_classes, activation='softmax'))\n",
    "model.summary()"
   ]
  },
  {
   "cell_type": "code",
   "execution_count": 24,
   "metadata": {
    "colab": {
     "base_uri": "https://localhost:8080/",
     "height": 442
    },
    "colab_type": "code",
    "id": "ghjE6dTMYuSd",
    "outputId": "b6be2b5c-be8b-4d63-cd99-678a24f38f9a"
   },
   "outputs": [
    {
     "name": "stdout",
     "output_type": "stream",
     "text": [
      "Train on 60000 samples, validate on 10000 samples\n",
      "Epoch 1/12\n",
      "60000/60000 [==============================] - 10s 169us/step - loss: 1.7509 - acc: 0.3481 - val_loss: 1.0950 - val_acc: 0.6055\n",
      "Epoch 2/12\n",
      "60000/60000 [==============================] - 9s 145us/step - loss: 1.0255 - acc: 0.6022 - val_loss: 0.6452 - val_acc: 0.7452\n",
      "Epoch 3/12\n",
      "60000/60000 [==============================] - 9s 149us/step - loss: 0.7806 - acc: 0.6864 - val_loss: 0.5940 - val_acc: 0.7168\n",
      "Epoch 4/12\n",
      "60000/60000 [==============================] - 9s 149us/step - loss: 0.6847 - acc: 0.7188 - val_loss: 0.4893 - val_acc: 0.7664\n",
      "Epoch 5/12\n",
      "60000/60000 [==============================] - 9s 149us/step - loss: 0.6264 - acc: 0.7374 - val_loss: 0.4625 - val_acc: 0.7681\n",
      "Epoch 6/12\n",
      "60000/60000 [==============================] - 9s 149us/step - loss: 0.5930 - acc: 0.7479 - val_loss: 0.4616 - val_acc: 0.7708\n",
      "Epoch 7/12\n",
      "60000/60000 [==============================] - 9s 149us/step - loss: 0.5617 - acc: 0.7542 - val_loss: 0.4300 - val_acc: 0.7818\n",
      "Epoch 8/12\n",
      "60000/60000 [==============================] - 9s 146us/step - loss: 0.5411 - acc: 0.7589 - val_loss: 0.4255 - val_acc: 0.7808\n",
      "Epoch 9/12\n",
      "60000/60000 [==============================] - 9s 146us/step - loss: 0.5334 - acc: 0.7611 - val_loss: 0.4114 - val_acc: 0.7845\n",
      "Epoch 10/12\n",
      "60000/60000 [==============================] - 9s 147us/step - loss: 0.5158 - acc: 0.7662 - val_loss: 0.4093 - val_acc: 0.7841\n",
      "Epoch 11/12\n",
      "60000/60000 [==============================] - 9s 148us/step - loss: 0.5082 - acc: 0.7658 - val_loss: 0.4201 - val_acc: 0.7803\n",
      "Epoch 12/12\n",
      "60000/60000 [==============================] - 9s 148us/step - loss: 0.4948 - acc: 0.7680 - val_loss: 0.4040 - val_acc: 0.7862\n"
     ]
    }
   ],
   "source": [
    "model.compile(loss=keras.losses.categorical_crossentropy,optimizer=keras.optimizers.Adam(),metrics=['accuracy'])\n",
    "history = model.fit(x_train, y_train,batch_size=batch_size,epochs=epochs,verbose=1,validation_data=(x_test, y_test))"
   ]
  },
  {
   "cell_type": "code",
   "execution_count": 25,
   "metadata": {
    "colab": {
     "base_uri": "https://localhost:8080/",
     "height": 51
    },
    "colab_type": "code",
    "id": "RECy6OAWYuV0",
    "outputId": "59e6290d-3d11-49e7-8a2d-6996329f022a"
   },
   "outputs": [
    {
     "name": "stdout",
     "output_type": "stream",
     "text": [
      "Test loss: 0.40402277054786684\n",
      "Test accuracy: 0.7862\n"
     ]
    }
   ],
   "source": [
    "score = model.evaluate(x_test, y_test, verbose=0)\n",
    "print('Test loss:', score[0])\n",
    "print('Test accuracy:', score[1])"
   ]
  },
  {
   "cell_type": "markdown",
   "metadata": {
    "colab_type": "text",
    "id": "NhRlTXXpiFsI"
   },
   "source": [
    "### Dynamic plot showing the crossentropy loss for train and test set for each epoch"
   ]
  },
  {
   "cell_type": "code",
   "execution_count": 26,
   "metadata": {
    "colab": {
     "base_uri": "https://localhost:8080/",
     "height": 281
    },
    "colab_type": "code",
    "id": "gRZ06NSwYryU",
    "outputId": "8c183959-9a4f-4048-be7f-2e96fbd0ebc8"
   },
   "outputs": [
    {
     "data": {
      "image/png": "[encoded data removed]",
      "text/plain": [
       "<matplotlib.figure.Figure at 0x7f54403edc88>"
      ]
     },
     "metadata": {
      "tags": []
     },
     "output_type": "display_data"
    }
   ],
   "source": [
    "%matplotlib inline\n",
    "fig,ax = plt.subplots(1,1)\n",
    "ax.set_xlabel('epoch') ; ax.set_ylabel('Categorical Crossentropy Loss')\n",
    "vy = history.history['val_loss']\n",
    "ty = history.history['loss']\n",
    "x = list(range(1,epochs+1))\n",
    "ax.plot(x, vy, 'b', label=\"Validation Loss\")\n",
    "ax.plot(x, ty, 'r', label=\"Train Loss\")\n",
    "plt.legend()\n",
    "plt.grid()\n",
    "fig.canvas.draw()"
   ]
  },
  {
   "cell_type": "markdown",
   "metadata": {
    "colab_type": "text",
    "id": "-mm8LiE1WjrA"
   },
   "source": [
    "### Model 5 - 3 Conv.Layers -> Max Pooling Layer -> 1 Conv.Layer -> Max Pooling Layer->Dense Layers, Kernel Sizes -> (3,3) (5,5),Stride -> (1,1)"
   ]
  },
  {
   "cell_type": "code",
   "execution_count": 27,
   "metadata": {
    "colab": {
     "base_uri": "https://localhost:8080/",
     "height": 714
    },
    "colab_type": "code",
    "id": "tNyRkKnoNIjT",
    "outputId": "b7554812-fb7b-4255-b512-13efae806e69"
   },
   "outputs": [
    {
     "name": "stdout",
     "output_type": "stream",
     "text": [
      "_________________________________________________________________\n",
      "Layer (type)                 Output Shape              Param #   \n",
      "=================================================================\n",
      "conv2d_13 (Conv2D)           (None, 24, 24, 32)        832       \n",
      "_________________________________________________________________\n",
      "conv2d_14 (Conv2D)           (None, 20, 20, 64)        51264     \n",
      "_________________________________________________________________\n",
      "conv2d_15 (Conv2D)           (None, 18, 18, 64)        36928     \n",
      "_________________________________________________________________\n",
      "max_pooling2d_8 (MaxPooling2 (None, 9, 9, 64)          0         \n",
      "_________________________________________________________________\n",
      "dropout_15 (Dropout)         (None, 9, 9, 64)          0         \n",
      "_________________________________________________________________\n",
      "conv2d_16 (Conv2D)           (None, 7, 7, 64)          36928     \n",
      "_________________________________________________________________\n",
      "conv2d_17 (Conv2D)           (None, 3, 3, 128)         204928    \n",
      "_________________________________________________________________\n",
      "max_pooling2d_9 (MaxPooling2 (None, 3, 3, 128)         0         \n",
      "_________________________________________________________________\n",
      "dropout_16 (Dropout)         (None, 3, 3, 128)         0         \n",
      "_________________________________________________________________\n",
      "flatten_5 (Flatten)          (None, 1152)              0         \n",
      "_________________________________________________________________\n",
      "dense_12 (Dense)             (None, 128)               147584    \n",
      "_________________________________________________________________\n",
      "dropout_17 (Dropout)         (None, 128)               0         \n",
      "_________________________________________________________________\n",
      "dense_13 (Dense)             (None, 64)                8256      \n",
      "_________________________________________________________________\n",
      "dropout_18 (Dropout)         (None, 64)                0         \n",
      "_________________________________________________________________\n",
      "dense_14 (Dense)             (None, 32)                2080      \n",
      "_________________________________________________________________\n",
      "dropout_19 (Dropout)         (None, 32)                0         \n",
      "_________________________________________________________________\n",
      "dense_15 (Dense)             (None, 10)                330       \n",
      "=================================================================\n",
      "Total params: 489,130\n",
      "Trainable params: 489,130\n",
      "Non-trainable params: 0\n",
      "_________________________________________________________________\n"
     ]
    }
   ],
   "source": [
    "model = Sequential()\n",
    "model.add(Conv2D(32, kernel_size=(5, 5),activation='relu',input_shape=input_shape,strides=(1,1),kernel_initializer='he_uniform'))\n",
    "model.add(Conv2D(64, (5, 5), activation='relu'))\n",
    "model.add(Conv2D(64, (3, 3), activation='relu'))\n",
    "model.add(MaxPooling2D(pool_size=(2, 2)))\n",
    "model.add(Dropout(0.5))\n",
    "model.add(Conv2D(64, (3, 3), activation='relu'))\n",
    "model.add(Conv2D(128, (5, 5), activation='relu'))\n",
    "model.add(MaxPooling2D(pool_size=(1, 1)))\n",
    "model.add(Dropout(0.5))\n",
    "model.add(Flatten())\n",
    "model.add(Dense(128, activation='relu'))\n",
    "model.add(Dropout(0.5))\n",
    "model.add(Dense(64, activation='relu'))\n",
    "model.add(Dropout(0.5))\n",
    "model.add(Dense(32, activation='relu'))\n",
    "model.add(Dropout(0.5))\n",
    "model.add(Dense(num_classes, activation='softmax'))\n",
    "model.summary()"
   ]
  },
  {
   "cell_type": "code",
   "execution_count": 28,
   "metadata": {
    "colab": {
     "base_uri": "https://localhost:8080/",
     "height": 442
    },
    "colab_type": "code",
    "id": "CHjFtEmFNcby",
    "outputId": "8d8fae11-2372-4e18-a849-0ea9ea984999"
   },
   "outputs": [
    {
     "name": "stdout",
     "output_type": "stream",
     "text": [
      "Train on 60000 samples, validate on 10000 samples\n",
      "Epoch 1/12\n",
      "60000/60000 [==============================] - 17s 282us/step - loss: 1.2012 - acc: 0.5695 - val_loss: 0.1499 - val_acc: 0.9709\n",
      "Epoch 2/12\n",
      "60000/60000 [==============================] - 15s 253us/step - loss: 0.3408 - acc: 0.9063 - val_loss: 0.0795 - val_acc: 0.9852\n",
      "Epoch 3/12\n",
      "60000/60000 [==============================] - 15s 254us/step - loss: 0.2207 - acc: 0.9437 - val_loss: 0.0598 - val_acc: 0.9874\n",
      "Epoch 4/12\n",
      "60000/60000 [==============================] - 15s 256us/step - loss: 0.1771 - acc: 0.9546 - val_loss: 0.0603 - val_acc: 0.9888\n",
      "Epoch 5/12\n",
      "60000/60000 [==============================] - 15s 257us/step - loss: 0.1646 - acc: 0.9597 - val_loss: 0.0513 - val_acc: 0.9889\n",
      "Epoch 6/12\n",
      "60000/60000 [==============================] - 15s 254us/step - loss: 0.1448 - acc: 0.9634 - val_loss: 0.0460 - val_acc: 0.9920\n",
      "Epoch 7/12\n",
      "60000/60000 [==============================] - 15s 252us/step - loss: 0.1391 - acc: 0.9658 - val_loss: 0.0426 - val_acc: 0.9917\n",
      "Epoch 8/12\n",
      "60000/60000 [==============================] - 15s 257us/step - loss: 0.1268 - acc: 0.9683 - val_loss: 0.0411 - val_acc: 0.9925\n",
      "Epoch 9/12\n",
      "60000/60000 [==============================] - 15s 256us/step - loss: 0.1194 - acc: 0.9705 - val_loss: 0.0519 - val_acc: 0.9911\n",
      "Epoch 10/12\n",
      "60000/60000 [==============================] - 15s 255us/step - loss: 0.1125 - acc: 0.9720 - val_loss: 0.0392 - val_acc: 0.9926\n",
      "Epoch 11/12\n",
      "60000/60000 [==============================] - 15s 253us/step - loss: 0.1042 - acc: 0.9739 - val_loss: 0.0367 - val_acc: 0.9937\n",
      "Epoch 12/12\n",
      "60000/60000 [==============================] - 15s 256us/step - loss: 0.1007 - acc: 0.9732 - val_loss: 0.0519 - val_acc: 0.9905\n"
     ]
    }
   ],
   "source": [
    "model.compile(loss=keras.losses.categorical_crossentropy,optimizer=keras.optimizers.Adam(),metrics=['accuracy'])\n",
    "history = model.fit(x_train, y_train,batch_size=batch_size,epochs=epochs,verbose=1,validation_data=(x_test, y_test))"
   ]
  },
  {
   "cell_type": "code",
   "execution_count": 29,
   "metadata": {
    "colab": {
     "base_uri": "https://localhost:8080/",
     "height": 51
    },
    "colab_type": "code",
    "id": "qVhKW0ioNhLz",
    "outputId": "6af9aa36-aeb3-481a-e872-c1b399ae6108"
   },
   "outputs": [
    {
     "name": "stdout",
     "output_type": "stream",
     "text": [
      "Test loss: 0.051926155737928185\n",
      "Test accuracy: 0.9905\n"
     ]
    }
   ],
   "source": [
    "score = model.evaluate(x_test, y_test, verbose=0)\n",
    "print('Test loss:', score[0])\n",
    "print('Test accuracy:', score[1])"
   ]
  },
  {
   "cell_type": "markdown",
   "metadata": {
    "colab_type": "text",
    "id": "sQtOxRKHiIiy"
   },
   "source": [
    "### Dynamic plot showing the crossentropy loss for train and test set for each epoch"
   ]
  },
  {
   "cell_type": "code",
   "execution_count": 30,
   "metadata": {
    "colab": {
     "base_uri": "https://localhost:8080/",
     "height": 279
    },
    "colab_type": "code",
    "id": "hFweDid0Yuz7",
    "outputId": "39aeae4b-c50f-4ba6-a15e-cb9904af72d4"
   },
   "outputs": [
    {
     "data": {
      "image/png": "[encoded data removed]",
      "text/plain": [
       "<matplotlib.figure.Figure at 0x7f54403ede80>"
      ]
     },
     "metadata": {
      "tags": []
     },
     "output_type": "display_data"
    }
   ],
   "source": [
    "%matplotlib inline\n",
    "fig,ax = plt.subplots(1,1)\n",
    "ax.set_xlabel('epoch') ; ax.set_ylabel('Categorical Crossentropy Loss')\n",
    "vy = history.history['val_loss']\n",
    "ty = history.history['loss']\n",
    "x = list(range(1,epochs+1))\n",
    "ax.plot(x, vy, 'b', label=\"Validation Loss\")\n",
    "ax.plot(x, ty, 'r', label=\"Train Loss\")\n",
    "plt.legend()\n",
    "plt.grid()\n",
    "fig.canvas.draw()"
   ]
  },
  {
   "cell_type": "markdown",
   "metadata": {
    "colab_type": "text",
    "id": "pmRCySp2W5UN"
   },
   "source": [
    "### Model 6 - 3 Conv.Layers -> Max Pooling Layer -> 1 Conv.Layer -> Max Pooling Layer->Dense Layers, Kernel Sizes -> (3,3) (5,5) (7,7) ,Stride -> (1,1)"
   ]
  },
  {
   "cell_type": "code",
   "execution_count": 31,
   "metadata": {
    "colab": {
     "base_uri": "https://localhost:8080/",
     "height": 714
    },
    "colab_type": "code",
    "id": "54xEzI1dNhX9",
    "outputId": "e3a2da27-4600-4711-e4ac-589f3c8b8ad1"
   },
   "outputs": [
    {
     "name": "stdout",
     "output_type": "stream",
     "text": [
      "_________________________________________________________________\n",
      "Layer (type)                 Output Shape              Param #   \n",
      "=================================================================\n",
      "conv2d_18 (Conv2D)           (None, 22, 22, 32)        1600      \n",
      "_________________________________________________________________\n",
      "conv2d_19 (Conv2D)           (None, 18, 18, 64)        51264     \n",
      "_________________________________________________________________\n",
      "conv2d_20 (Conv2D)           (None, 16, 16, 128)       73856     \n",
      "_________________________________________________________________\n",
      "max_pooling2d_10 (MaxPooling (None, 8, 8, 128)         0         \n",
      "_________________________________________________________________\n",
      "dropout_20 (Dropout)         (None, 8, 8, 128)         0         \n",
      "_________________________________________________________________\n",
      "conv2d_21 (Conv2D)           (None, 6, 6, 64)          73792     \n",
      "_________________________________________________________________\n",
      "conv2d_22 (Conv2D)           (None, 4, 4, 128)         73856     \n",
      "_________________________________________________________________\n",
      "max_pooling2d_11 (MaxPooling (None, 4, 4, 128)         0         \n",
      "_________________________________________________________________\n",
      "dropout_21 (Dropout)         (None, 4, 4, 128)         0         \n",
      "_________________________________________________________________\n",
      "flatten_6 (Flatten)          (None, 2048)              0         \n",
      "_________________________________________________________________\n",
      "dense_16 (Dense)             (None, 128)               262272    \n",
      "_________________________________________________________________\n",
      "dropout_22 (Dropout)         (None, 128)               0         \n",
      "_________________________________________________________________\n",
      "dense_17 (Dense)             (None, 64)                8256      \n",
      "_________________________________________________________________\n",
      "dropout_23 (Dropout)         (None, 64)                0         \n",
      "_________________________________________________________________\n",
      "dense_18 (Dense)             (None, 32)                2080      \n",
      "_________________________________________________________________\n",
      "dropout_24 (Dropout)         (None, 32)                0         \n",
      "_________________________________________________________________\n",
      "dense_19 (Dense)             (None, 10)                330       \n",
      "=================================================================\n",
      "Total params: 547,306\n",
      "Trainable params: 547,306\n",
      "Non-trainable params: 0\n",
      "_________________________________________________________________\n"
     ]
    }
   ],
   "source": [
    "model = Sequential()\n",
    "model.add(Conv2D(32, kernel_size=(7, 7),activation='relu',input_shape=input_shape,strides=(1,1),kernel_initializer='he_uniform'))\n",
    "model.add(Conv2D(64, (5, 5), activation='relu'))\n",
    "model.add(Conv2D(128, (3, 3), activation='relu'))\n",
    "model.add(MaxPooling2D(pool_size=(2, 2)))\n",
    "model.add(Dropout(0.5))\n",
    "model.add(Conv2D(64, (3, 3), activation='relu'))\n",
    "model.add(Conv2D(128, (3, 3), activation='relu'))\n",
    "model.add(MaxPooling2D(pool_size=(1, 1)))\n",
    "model.add(Dropout(0.5))\n",
    "model.add(Flatten())\n",
    "model.add(Dense(128, activation='relu'))\n",
    "model.add(Dropout(0.5))\n",
    "model.add(Dense(64, activation='relu'))\n",
    "model.add(Dropout(0.5))\n",
    "model.add(Dense(32, activation='relu'))\n",
    "model.add(Dropout(0.5))\n",
    "model.add(Dense(num_classes, activation='softmax'))\n",
    "model.summary()"
   ]
  },
  {
   "cell_type": "code",
   "execution_count": 32,
   "metadata": {
    "colab": {
     "base_uri": "https://localhost:8080/",
     "height": 442
    },
    "colab_type": "code",
    "id": "KNegygKfNhbM",
    "outputId": "f290eb27-88a8-43e4-979e-8730af5a586c"
   },
   "outputs": [
    {
     "name": "stdout",
     "output_type": "stream",
     "text": [
      "Train on 60000 samples, validate on 10000 samples\n",
      "Epoch 1/12\n",
      "60000/60000 [==============================] - 17s 285us/step - loss: 1.1907 - acc: 0.5778 - val_loss: 0.1048 - val_acc: 0.9747\n",
      "Epoch 2/12\n",
      "60000/60000 [==============================] - 15s 255us/step - loss: 0.3247 - acc: 0.9127 - val_loss: 0.0900 - val_acc: 0.9805\n",
      "Epoch 3/12\n",
      "60000/60000 [==============================] - 15s 251us/step - loss: 0.2341 - acc: 0.9401 - val_loss: 0.0801 - val_acc: 0.9823\n",
      "Epoch 4/12\n",
      "60000/60000 [==============================] - 15s 255us/step - loss: 0.1942 - acc: 0.9517 - val_loss: 0.0599 - val_acc: 0.9863\n",
      "Epoch 5/12\n",
      "60000/60000 [==============================] - 15s 256us/step - loss: 0.1718 - acc: 0.9578 - val_loss: 0.0595 - val_acc: 0.9879\n",
      "Epoch 6/12\n",
      "60000/60000 [==============================] - 15s 257us/step - loss: 0.1484 - acc: 0.9629 - val_loss: 0.0633 - val_acc: 0.9887\n",
      "Epoch 7/12\n",
      "60000/60000 [==============================] - 15s 251us/step - loss: 0.1434 - acc: 0.9653 - val_loss: 0.0688 - val_acc: 0.9889\n",
      "Epoch 8/12\n",
      "60000/60000 [==============================] - 15s 252us/step - loss: 0.1302 - acc: 0.9682 - val_loss: 0.0441 - val_acc: 0.9921\n",
      "Epoch 9/12\n",
      "60000/60000 [==============================] - 15s 255us/step - loss: 0.1221 - acc: 0.9699 - val_loss: 0.0481 - val_acc: 0.9906\n",
      "Epoch 10/12\n",
      "60000/60000 [==============================] - 15s 255us/step - loss: 0.1158 - acc: 0.9710 - val_loss: 0.0683 - val_acc: 0.9884\n",
      "Epoch 11/12\n",
      "60000/60000 [==============================] - 15s 252us/step - loss: 0.1105 - acc: 0.9717 - val_loss: 0.0540 - val_acc: 0.9916\n",
      "Epoch 12/12\n",
      "60000/60000 [==============================] - 15s 251us/step - loss: 0.1140 - acc: 0.9721 - val_loss: 0.0597 - val_acc: 0.9907\n"
     ]
    }
   ],
   "source": [
    "model.compile(loss=keras.losses.categorical_crossentropy,optimizer=keras.optimizers.Adam(),metrics=['accuracy'])\n",
    "history = model.fit(x_train, y_train,batch_size=batch_size,epochs=epochs,verbose=1,validation_data=(x_test, y_test))"
   ]
  },
  {
   "cell_type": "code",
   "execution_count": 33,
   "metadata": {
    "colab": {
     "base_uri": "https://localhost:8080/",
     "height": 51
    },
    "colab_type": "code",
    "id": "Cj22VvBqNheh",
    "outputId": "5be12435-2de8-4471-ed14-ef3e09760c95"
   },
   "outputs": [
    {
     "name": "stdout",
     "output_type": "stream",
     "text": [
      "Test loss: 0.059650832169331446\n",
      "Test accuracy: 0.9907\n"
     ]
    }
   ],
   "source": [
    "score = model.evaluate(x_test, y_test, verbose=0)\n",
    "print('Test loss:', score[0])\n",
    "print('Test accuracy:', score[1])"
   ]
  },
  {
   "cell_type": "markdown",
   "metadata": {
    "colab_type": "text",
    "id": "t1FUppUNiMhs"
   },
   "source": [
    "### Dynamic plot showing the crossentropy loss for train and test set for each epoch"
   ]
  },
  {
   "cell_type": "code",
   "execution_count": 34,
   "metadata": {
    "colab": {
     "base_uri": "https://localhost:8080/",
     "height": 279
    },
    "colab_type": "code",
    "id": "x0-vixPqYxcW",
    "outputId": "166f03be-dc9c-4762-99a8-f99eec33c052"
   },
   "outputs": [
    {
     "data": {
      "image/png": "[encoded data removed]",
      "text/plain": [
       "<matplotlib.figure.Figure at 0x7f542edd4a58>"
      ]
     },
     "metadata": {
      "tags": []
     },
     "output_type": "display_data"
    }
   ],
   "source": [
    "%matplotlib inline\n",
    "fig,ax = plt.subplots(1,1)\n",
    "ax.set_xlabel('epoch') ; ax.set_ylabel('Categorical Crossentropy Loss')\n",
    "vy = history.history['val_loss']\n",
    "ty = history.history['loss']\n",
    "x = list(range(1,epochs+1))\n",
    "ax.plot(x, vy, 'b', label=\"Validation Loss\")\n",
    "ax.plot(x, ty, 'r', label=\"Train Loss\")\n",
    "plt.legend()\n",
    "plt.grid()\n",
    "fig.canvas.draw()"
   ]
  },
  {
   "cell_type": "markdown",
   "metadata": {
    "colab_type": "text",
    "id": "dgM9b_0qXH0T"
   },
   "source": [
    "### Summary"
   ]
  },
  {
   "cell_type": "markdown",
   "metadata": {
    "colab_type": "text",
    "id": "RFY8jduAXMom"
   },
   "source": [
    "Model | Optimizer | Kernel Sizes | Stride | Loss on Test set | Accuracy on Test set |\n",
    "--- | --- | -- | -- | -- | -- |\n",
    "2 Conv.Layers -> Max Pooling Layer -> Dense Layers| Adam | (3,3) | (1,1) | 0.026 | 99.18 |\n",
    "2 Conv.Layers -> Max Pooling Layer -> 1 Conv.Layer -> Max Pooling Layer->Dense Layers  | Adam | (3,3) | (1,1) | 0.018| 99.37 |\n",
    "2 Conv.Layers -> Max Pooling Layer -> 1 Conv.Layer -> Max Pooling Layer->Dense Layers | Adam | (3,3) (5,5) | (2,2) |0.042 | 98.95|\n",
    "3 Conv.Layers -> Max Pooling Layer -> 1 Conv.Layer -> Max Pooling Layer->Dense Layers | Adam | (3,3) (5,5) | (2,2) |0.258 | 82.91|\n",
    "3 Conv.Layers -> Max Pooling Layer -> 1 Conv.Layer -> Max Pooling Layer->Dense Layers | Adam | (3,3) (5,5)| (1,1) | 0.041 | 99.29|\n",
    "3 Conv.Layers -> Max Pooling Layer -> 1 Conv.Layer -> Max Pooling Layer->Dense Layers | Adam | (3,3) (5,5) (7,7)  | (1,1) | 0.038 |99.19 |"
   ]
  }
 ],
 "metadata": {
  "accelerator": "GPU",
  "colab": {
   "collapsed_sections": [],
   "name": "CNN_MNIST_Sriram.ipynb",
   "provenance": [],
   "version": "0.3.2"
  },
  "kernelspec": {
   "display_name": "Python 3",
   "language": "python",
   "name": "python3"
  },
  "language_info": {
   "codemirror_mode": {
    "name": "ipython",
    "version": 3
   },
   "file_extension": ".py",
   "mimetype": "text/x-python",
   "name": "python",
   "nbconvert_exporter": "python",
   "pygments_lexer": "ipython3",
   "version": "3.6.5"
  }
 },
 "nbformat": 4,
 "nbformat_minor": 1
}
