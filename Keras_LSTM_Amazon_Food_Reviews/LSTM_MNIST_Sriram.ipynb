{
 "cells": [
  {
   "cell_type": "code",
   "execution_count": 0,
   "metadata": {
    "colab": {},
    "colab_type": "code",
    "id": "mkcjtxUJnji7"
   },
   "outputs": [],
   "source": [
    "import numpy as np\n",
    "import pandas as pd\n",
    "import seaborn as sns\n",
    "import matplotlib.pyplot as plt\n",
    "import sqlite3\n",
    "import nltk\n",
    "import string\n",
    "import warnings\n",
    "warnings.filterwarnings(\"ignore\") "
   ]
  },
  {
   "cell_type": "markdown",
   "metadata": {
    "colab_type": "text",
    "id": "o7sMUTaF34Qb"
   },
   "source": [
    "### Importing file from Google Drive"
   ]
  },
  {
   "cell_type": "code",
   "execution_count": 3,
   "metadata": {
    "colab": {
     "base_uri": "https://localhost:8080/",
     "height": 34
    },
    "colab_type": "code",
    "id": "F6rYWYePnsl1",
    "outputId": "8f5c1cf9-6e4e-459b-a573-a55f1318758a"
   },
   "outputs": [
    {
     "name": "stdout",
     "output_type": "stream",
     "text": [
      "Mounted at /content/gdrive\n"
     ]
    }
   ],
   "source": [
    "from google.colab import drive\n",
    "drive.mount('/content/gdrive',force_remount=True)"
   ]
  },
  {
   "cell_type": "code",
   "execution_count": 0,
   "metadata": {
    "colab": {},
    "colab_type": "code",
    "id": "L019f6sBnso7"
   },
   "outputs": [],
   "source": [
    "path = \"gdrive/My Drive/150kpts.csv\""
   ]
  },
  {
   "cell_type": "code",
   "execution_count": 0,
   "metadata": {
    "colab": {},
    "colab_type": "code",
    "id": "XQ25jeZEnsse"
   },
   "outputs": [],
   "source": [
    "data = pd.read_csv(path)"
   ]
  },
  {
   "cell_type": "code",
   "execution_count": 7,
   "metadata": {
    "colab": {
     "base_uri": "https://localhost:8080/",
     "height": 267
    },
    "colab_type": "code",
    "id": "bpnEncxDnsvQ",
    "outputId": "93a10d47-e4f4-422c-f750-2cc47c54ccbb"
   },
   "outputs": [
    {
     "data": {
      "text/html": [
       "<div>\n",
       "<style scoped>\n",
       "    .dataframe tbody tr th:only-of-type {\n",
       "        vertical-align: middle;\n",
       "    }\n",
       "\n",
       "    .dataframe tbody tr th {\n",
       "        vertical-align: top;\n",
       "    }\n",
       "\n",
       "    .dataframe thead th {\n",
       "        text-align: right;\n",
       "    }\n",
       "</style>\n",
       "<table border=\"1\" class=\"dataframe\">\n",
       "  <thead>\n",
       "    <tr style=\"text-align: right;\">\n",
       "      <th></th>\n",
       "      <th>Unnamed: 0</th>\n",
       "      <th>Id</th>\n",
       "      <th>ProductId</th>\n",
       "      <th>UserId</th>\n",
       "      <th>ProfileName</th>\n",
       "      <th>HelpfulnessNumerator</th>\n",
       "      <th>HelpfulnessDenominator</th>\n",
       "      <th>Score</th>\n",
       "      <th>Time</th>\n",
       "      <th>Summary</th>\n",
       "      <th>Text</th>\n",
       "      <th>Cleaned_Text</th>\n",
       "    </tr>\n",
       "  </thead>\n",
       "  <tbody>\n",
       "    <tr>\n",
       "      <th>0</th>\n",
       "      <td>417839</td>\n",
       "      <td>451856</td>\n",
       "      <td>B00004CXX9</td>\n",
       "      <td>AIUWLEQ1ADEG5</td>\n",
       "      <td>Elizabeth Medina</td>\n",
       "      <td>0</td>\n",
       "      <td>0</td>\n",
       "      <td>1</td>\n",
       "      <td>944092800</td>\n",
       "      <td>Entertainingl Funny!</td>\n",
       "      <td>Beetlejuice is a well written movie ..... ever...</td>\n",
       "      <td>beetlejuic well written movi everyth excel act...</td>\n",
       "    </tr>\n",
       "    <tr>\n",
       "      <th>1</th>\n",
       "      <td>346055</td>\n",
       "      <td>374359</td>\n",
       "      <td>B00004CI84</td>\n",
       "      <td>A344SMIA5JECGM</td>\n",
       "      <td>Vincent P. Ross</td>\n",
       "      <td>1</td>\n",
       "      <td>2</td>\n",
       "      <td>1</td>\n",
       "      <td>944438400</td>\n",
       "      <td>A modern day fairy tale</td>\n",
       "      <td>A twist of rumplestiskin captured on film, sta...</td>\n",
       "      <td>twist rumplestiskin captur film star michael k...</td>\n",
       "    </tr>\n",
       "  </tbody>\n",
       "</table>\n",
       "</div>"
      ],
      "text/plain": [
       "   Unnamed: 0      Id   ProductId          UserId       ProfileName  \\\n",
       "0      417839  451856  B00004CXX9   AIUWLEQ1ADEG5  Elizabeth Medina   \n",
       "1      346055  374359  B00004CI84  A344SMIA5JECGM   Vincent P. Ross   \n",
       "\n",
       "   HelpfulnessNumerator  HelpfulnessDenominator  Score       Time  \\\n",
       "0                     0                       0      1  944092800   \n",
       "1                     1                       2      1  944438400   \n",
       "\n",
       "                   Summary                                               Text  \\\n",
       "0     Entertainingl Funny!  Beetlejuice is a well written movie ..... ever...   \n",
       "1  A modern day fairy tale  A twist of rumplestiskin captured on film, sta...   \n",
       "\n",
       "                                        Cleaned_Text  \n",
       "0  beetlejuic well written movi everyth excel act...  \n",
       "1  twist rumplestiskin captur film star michael k...  "
      ]
     },
     "execution_count": 7,
     "metadata": {
      "tags": []
     },
     "output_type": "execute_result"
    }
   ],
   "source": [
    "data.head(2)"
   ]
  },
  {
   "cell_type": "code",
   "execution_count": 0,
   "metadata": {
    "colab": {},
    "colab_type": "code",
    "id": "amsPT3bjp2Bq"
   },
   "outputs": [],
   "source": [
    "from sklearn.model_selection import train_test_split\n",
    "df_data = data.head(80000)"
   ]
  },
  {
   "cell_type": "markdown",
   "metadata": {
    "colab_type": "text",
    "id": "71gXLfi53_5t"
   },
   "source": [
    "### Train Test Split of Dataset"
   ]
  },
  {
   "cell_type": "code",
   "execution_count": 0,
   "metadata": {
    "colab": {},
    "colab_type": "code",
    "id": "QBk0l-NoqYAc"
   },
   "outputs": [],
   "source": [
    "x_train, x_test, y_train, y_test = train_test_split(df_data['Cleaned_Text'] ,df_data['Score'], test_size=0.3, shuffle = False)"
   ]
  },
  {
   "cell_type": "code",
   "execution_count": 0,
   "metadata": {
    "colab": {},
    "colab_type": "code",
    "id": "A4iUHUKSp2Em"
   },
   "outputs": [],
   "source": [
    "from keras.preprocessing.text import Tokenizer"
   ]
  },
  {
   "cell_type": "markdown",
   "metadata": {
    "colab_type": "text",
    "id": "uk-OsBHa4Nsi"
   },
   "source": [
    "### Text Tokenizer (Converting text to numbers based on the frequency of their occurence)"
   ]
  },
  {
   "cell_type": "code",
   "execution_count": 0,
   "metadata": {
    "colab": {},
    "colab_type": "code",
    "id": "RUy7woMtp2H_"
   },
   "outputs": [],
   "source": [
    "tokenizer = Tokenizer(num_words=7000)\n",
    "tokenizer.fit_on_texts(x_train)\n",
    "\n",
    "x_train = tokenizer.texts_to_sequences(x_train)\n",
    "x_test = tokenizer.texts_to_sequences(x_test)"
   ]
  },
  {
   "cell_type": "code",
   "execution_count": 13,
   "metadata": {
    "colab": {
     "base_uri": "https://localhost:8080/",
     "height": 68
    },
    "colab_type": "code",
    "id": "JtmLYSSjqpnC",
    "outputId": "df4d24a0-2fc8-4ee3-af67-66a971170e90"
   },
   "outputs": [
    {
     "name": "stdout",
     "output_type": "stream",
     "text": [
      "[1427, 4167, 1428, 219, 2868, 2649, 3684, 3068, 1540, 2371, 2233, 4413, 5417, 73, 2143, 559, 3146, 1409]\n",
      "<class 'list'>\n",
      "18\n"
     ]
    }
   ],
   "source": [
    "print(x_train[1])\n",
    "print(type(x_train[1]))\n",
    "print(len(x_train[1]))"
   ]
  },
  {
   "cell_type": "code",
   "execution_count": 0,
   "metadata": {
    "colab": {},
    "colab_type": "code",
    "id": "0Q7RS5t4qvbf"
   },
   "outputs": [],
   "source": [
    "from keras.models import Sequential\n",
    "from keras.layers import Dense\n",
    "from keras.layers import LSTM\n",
    "from keras.layers.embeddings import Embedding\n",
    "from keras.preprocessing import sequence"
   ]
  },
  {
   "cell_type": "markdown",
   "metadata": {
    "colab_type": "text",
    "id": "304yZjcz4hfJ"
   },
   "source": [
    "### Sequence Padding (To convert all inputs to the same size)"
   ]
  },
  {
   "cell_type": "code",
   "execution_count": 15,
   "metadata": {
    "colab": {
     "base_uri": "https://localhost:8080/",
     "height": 34
    },
    "colab_type": "code",
    "id": "O2Y1edk1q7j7",
    "outputId": "0b947e07-b34d-43e3-85ee-ac36c0a33ceb"
   },
   "outputs": [
    {
     "name": "stdout",
     "output_type": "stream",
     "text": [
      "(56000, 400)\n"
     ]
    }
   ],
   "source": [
    "max_review_length = 400\n",
    "x_train = sequence.pad_sequences(x_train, maxlen=max_review_length)\n",
    "x_test = sequence.pad_sequences(x_test, maxlen=max_review_length)\n",
    "\n",
    "print(x_train.shape)"
   ]
  },
  {
   "cell_type": "code",
   "execution_count": 16,
   "metadata": {
    "colab": {
     "base_uri": "https://localhost:8080/",
     "height": 510
    },
    "colab_type": "code",
    "id": "Tg8RKdSTrCb6",
    "outputId": "a3ceb5c9-fb4f-46c8-9d8e-69492cbef981"
   },
   "outputs": [
    {
     "name": "stdout",
     "output_type": "stream",
     "text": [
      "[   0    0    0    0    0    0    0    0    0    0    0    0    0    0\n",
      "    0    0    0    0    0    0    0    0    0    0    0    0    0    0\n",
      "    0    0    0    0    0    0    0    0    0    0    0    0    0    0\n",
      "    0    0    0    0    0    0    0    0    0    0    0    0    0    0\n",
      "    0    0    0    0    0    0    0    0    0    0    0    0    0    0\n",
      "    0    0    0    0    0    0    0    0    0    0    0    0    0    0\n",
      "    0    0    0    0    0    0    0    0    0    0    0    0    0    0\n",
      "    0    0    0    0    0    0    0    0    0    0    0    0    0    0\n",
      "    0    0    0    0    0    0    0    0    0    0    0    0    0    0\n",
      "    0    0    0    0    0    0    0    0    0    0    0    0    0    0\n",
      "    0    0    0    0    0    0    0    0    0    0    0    0    0    0\n",
      "    0    0    0    0    0    0    0    0    0    0    0    0    0    0\n",
      "    0    0    0    0    0    0    0    0    0    0    0    0    0    0\n",
      "    0    0    0    0    0    0    0    0    0    0    0    0    0    0\n",
      "    0    0    0    0    0    0    0    0    0    0    0    0    0    0\n",
      "    0    0    0    0    0    0    0    0    0    0    0    0    0    0\n",
      "    0    0    0    0    0    0    0    0    0    0    0    0    0    0\n",
      "    0    0    0    0    0    0    0    0    0    0    0    0    0    0\n",
      "    0    0    0    0    0    0    0    0    0    0    0    0    0    0\n",
      "    0    0    0    0    0    0    0    0    0    0    0    0    0    0\n",
      "    0    0    0    0    0    0    0    0    0    0    0    0    0    0\n",
      "    0    0    0    0    0    0    0    0    0    0    0    0    0    0\n",
      "    0    0    0    0    0    0    0    0    0    0    0    0    0    0\n",
      "    0    0    0    0    0    0    0    0    0    0    0    0    0    0\n",
      "    0    0    0    0    0    0    0    0    0    0    0    0    0    0\n",
      "    0    0    0    0    0    0    0    0    0    0    0    0    0    0\n",
      "    0    0    0    0    0    0    0    0    0    0    0    0    0    0\n",
      "    0    0    0    0 1427 4167 1428  219 2868 2649 3684 3068 1540 2371\n",
      " 2233 4413 5417   73 2143  559 3146 1409]\n"
     ]
    }
   ],
   "source": [
    "print(x_train[1])"
   ]
  },
  {
   "cell_type": "markdown",
   "metadata": {
    "colab_type": "text",
    "id": "LYdAMUef459h"
   },
   "source": [
    "### Model 1 - One LSTM layer"
   ]
  },
  {
   "cell_type": "code",
   "execution_count": 17,
   "metadata": {
    "colab": {
     "base_uri": "https://localhost:8080/",
     "height": 255
    },
    "colab_type": "code",
    "id": "n7Fbvs_6rG7e",
    "outputId": "80f1fc01-90c5-4335-a263-559847f39507"
   },
   "outputs": [
    {
     "name": "stdout",
     "output_type": "stream",
     "text": [
      "_________________________________________________________________\n",
      "Layer (type)                 Output Shape              Param #   \n",
      "=================================================================\n",
      "embedding_1 (Embedding)      (None, 400, 32)           224000    \n",
      "_________________________________________________________________\n",
      "lstm_1 (LSTM)                (None, 100)               53200     \n",
      "_________________________________________________________________\n",
      "dense_1 (Dense)              (None, 1)                 101       \n",
      "=================================================================\n",
      "Total params: 277,301\n",
      "Trainable params: 277,301\n",
      "Non-trainable params: 0\n",
      "_________________________________________________________________\n",
      "None\n"
     ]
    }
   ],
   "source": [
    "embedding_vector_length = 32\n",
    "top_words = 7000\n",
    "model = Sequential()\n",
    "model.add(Embedding(top_words, embedding_vector_length, input_length=max_review_length))\n",
    "model.add(LSTM(100))\n",
    "model.add(Dense(1, activation='sigmoid'))\n",
    "model.compile(loss='binary_crossentropy', optimizer='adam', metrics=['accuracy'])\n",
    "print(model.summary())"
   ]
  },
  {
   "cell_type": "code",
   "execution_count": 0,
   "metadata": {
    "colab": {},
    "colab_type": "code",
    "id": "_UhzfAJwrtO9"
   },
   "outputs": [],
   "source": [
    "from datetime import datetime"
   ]
  },
  {
   "cell_type": "code",
   "execution_count": 20,
   "metadata": {
    "colab": {
     "base_uri": "https://localhost:8080/",
     "height": 221
    },
    "colab_type": "code",
    "id": "Lgh7PhhvrWdB",
    "outputId": "bf7f1ab6-11f2-4753-91d3-a29ffb5ff9d9"
   },
   "outputs": [
    {
     "name": "stdout",
     "output_type": "stream",
     "text": [
      "Train on 56000 samples, validate on 24000 samples\n",
      "Epoch 1/5\n",
      "56000/56000 [==============================] - 798s 14ms/step - loss: 0.2349 - acc: 0.9138 - val_loss: 0.2077 - val_acc: 0.9197\n",
      "Epoch 2/5\n",
      "56000/56000 [==============================] - 800s 14ms/step - loss: 0.1642 - acc: 0.9388 - val_loss: 0.2039 - val_acc: 0.9207\n",
      "Epoch 3/5\n",
      "56000/56000 [==============================] - 800s 14ms/step - loss: 0.1438 - acc: 0.9470 - val_loss: 0.2204 - val_acc: 0.9148\n",
      "Epoch 4/5\n",
      "56000/56000 [==============================] - 801s 14ms/step - loss: 0.1295 - acc: 0.9532 - val_loss: 0.2126 - val_acc: 0.9175\n",
      "Epoch 5/5\n",
      "56000/56000 [==============================] - 800s 14ms/step - loss: 0.1155 - acc: 0.9590 - val_loss: 0.2314 - val_acc: 0.9181\n",
      "Time taken to run this cell 1:10:23.607837\n"
     ]
    }
   ],
   "source": [
    "start = datetime.now()\n",
    "epochs = 5\n",
    "history = model.fit(x_train, y_train, nb_epoch= epochs, batch_size=64,validation_data=(x_test, y_test))\n",
    "# Final evaluation of the model\n",
    "scores = model.evaluate(x_test, y_test, verbose=0)\n",
    "print('Time taken to run this cell',datetime.now()-start)"
   ]
  },
  {
   "cell_type": "code",
   "execution_count": 21,
   "metadata": {
    "colab": {
     "base_uri": "https://localhost:8080/",
     "height": 51
    },
    "colab_type": "code",
    "id": "mnEMmJHjrWlX",
    "outputId": "96431dae-111b-4ff5-c020-49c7a14e9005"
   },
   "outputs": [
    {
     "name": "stdout",
     "output_type": "stream",
     "text": [
      "Test loss: 0.23140542059515914\n",
      "Accuracy: 91.81%\n"
     ]
    }
   ],
   "source": [
    "print('Test loss:', scores[0])\n",
    "print(\"Accuracy: %.2f%%\" % (scores[1]*100))"
   ]
  },
  {
   "cell_type": "markdown",
   "metadata": {
    "colab_type": "text",
    "id": "-mJoUnGK5SLC"
   },
   "source": [
    "### Dynamic plot showing the crossentropy loss for train and test set for each epoch"
   ]
  },
  {
   "cell_type": "code",
   "execution_count": 22,
   "metadata": {
    "colab": {
     "base_uri": "https://localhost:8080/",
     "height": 282
    },
    "colab_type": "code",
    "id": "iiJPIpV6rWoF",
    "outputId": "74741033-391a-423b-e9a4-2cf9c3c961d1"
   },
   "outputs": [
    {
     "data": {
      "image/png": "[encoded data removed]",
      "text/plain": [
       "<matplotlib.figure.Figure at 0x7fbbb83e1828>"
      ]
     },
     "metadata": {
      "tags": []
     },
     "output_type": "display_data"
    }
   ],
   "source": [
    "epochs = 5\n",
    "%matplotlib inline\n",
    "fig,ax = plt.subplots(1,1)\n",
    "ax.set_xlabel('epoch') ; ax.set_ylabel('Categorical Crossentropy Loss')\n",
    "vy = history.history['val_loss']\n",
    "ty = history.history['loss']\n",
    "x = list(range(1,epochs+1))\n",
    "ax.plot(x, vy, 'b', label=\"Validation Loss\")\n",
    "ax.plot(x, ty, 'r', label=\"Train Loss\")\n",
    "plt.legend()\n",
    "plt.grid()\n",
    "fig.canvas.draw()"
   ]
  },
  {
   "cell_type": "markdown",
   "metadata": {
    "colab_type": "text",
    "id": "5WVMNYbz5WPt"
   },
   "source": [
    "### Model 2 - Three LSTM layers"
   ]
  },
  {
   "cell_type": "code",
   "execution_count": 24,
   "metadata": {
    "colab": {
     "base_uri": "https://localhost:8080/",
     "height": 323
    },
    "colab_type": "code",
    "id": "CfuPKs3E9dEG",
    "outputId": "d10b4b7f-5af9-48c3-e973-0fe8d1738a0e"
   },
   "outputs": [
    {
     "name": "stdout",
     "output_type": "stream",
     "text": [
      "_________________________________________________________________\n",
      "Layer (type)                 Output Shape              Param #   \n",
      "=================================================================\n",
      "embedding_3 (Embedding)      (None, 400, 32)           224000    \n",
      "_________________________________________________________________\n",
      "lstm_5 (LSTM)                (None, 400, 100)          53200     \n",
      "_________________________________________________________________\n",
      "lstm_6 (LSTM)                (None, 400, 70)           47880     \n",
      "_________________________________________________________________\n",
      "lstm_7 (LSTM)                (None, 30)                12120     \n",
      "_________________________________________________________________\n",
      "dense_3 (Dense)              (None, 1)                 31        \n",
      "=================================================================\n",
      "Total params: 337,231\n",
      "Trainable params: 337,231\n",
      "Non-trainable params: 0\n",
      "_________________________________________________________________\n",
      "None\n"
     ]
    }
   ],
   "source": [
    "embedding_vector_length = 32\n",
    "top_words = 7000\n",
    "model1 = Sequential()\n",
    "model1.add(Embedding(top_words, embedding_vector_length, input_length=max_review_length))\n",
    "model1.add(LSTM(100,return_sequences=True))\n",
    "model1.add(LSTM(70,return_sequences=True))\n",
    "model1.add(LSTM(30,))\n",
    "model1.add(Dense(1, activation='sigmoid'))\n",
    "model1.compile(loss='binary_crossentropy', optimizer='adam', metrics=['accuracy'])\n",
    "print(model1.summary())"
   ]
  },
  {
   "cell_type": "code",
   "execution_count": 25,
   "metadata": {
    "colab": {
     "base_uri": "https://localhost:8080/",
     "height": 187
    },
    "colab_type": "code",
    "id": "DlXD5hX4-T4h",
    "outputId": "e3fde6e9-e8a1-473c-97fb-a6bb6279ed99"
   },
   "outputs": [
    {
     "name": "stdout",
     "output_type": "stream",
     "text": [
      "Train on 56000 samples, validate on 24000 samples\n",
      "Epoch 1/4\n",
      "56000/56000 [==============================] - 1194s 21ms/step - loss: 0.2742 - acc: 0.9043 - val_loss: 0.2216 - val_acc: 0.9168\n",
      "Epoch 2/4\n",
      "56000/56000 [==============================] - 1161s 21ms/step - loss: 0.1679 - acc: 0.9368 - val_loss: 0.2113 - val_acc: 0.9197\n",
      "Epoch 3/4\n",
      "56000/56000 [==============================] - 1151s 21ms/step - loss: 0.1453 - acc: 0.9473 - val_loss: 0.2068 - val_acc: 0.9196\n",
      "Epoch 4/4\n",
      "56000/56000 [==============================] - 1154s 21ms/step - loss: 0.1291 - acc: 0.9534 - val_loss: 0.2214 - val_acc: 0.9197\n",
      "Time taken to run this cell 1:28:46.179967\n"
     ]
    }
   ],
   "source": [
    "start = datetime.now()\n",
    "epochs = 4\n",
    "history1 = model1.fit(x_train, y_train, nb_epoch= epochs, batch_size=128,validation_data=(x_test, y_test))\n",
    "# Final evaluation of the model\n",
    "scores1 = model1.evaluate(x_test, y_test, verbose=0)\n",
    "print('Time taken to run this cell',datetime.now()-start)"
   ]
  },
  {
   "cell_type": "code",
   "execution_count": 27,
   "metadata": {
    "colab": {
     "base_uri": "https://localhost:8080/",
     "height": 51
    },
    "colab_type": "code",
    "id": "O8ZO5Fgc-T7X",
    "outputId": "4db00cf5-c1f3-4065-8429-e6aa9de71c72"
   },
   "outputs": [
    {
     "name": "stdout",
     "output_type": "stream",
     "text": [
      "Test loss: 0.22137962412585815\n",
      "Accuracy: 91.97%\n"
     ]
    }
   ],
   "source": [
    "print('Test loss:', scores1[0])\n",
    "print(\"Accuracy: %.2f%%\" % (scores1[1]*100))"
   ]
  },
  {
   "cell_type": "markdown",
   "metadata": {
    "colab_type": "text",
    "id": "2XWYQXbd5dei"
   },
   "source": [
    "### Dynamic plot showing the crossentropy loss for train and test set for each epoch"
   ]
  },
  {
   "cell_type": "code",
   "execution_count": 28,
   "metadata": {
    "colab": {
     "base_uri": "https://localhost:8080/",
     "height": 281
    },
    "colab_type": "code",
    "id": "0QpkZ8gA-T97",
    "outputId": "b71e9e83-ee66-4365-b1a9-62b7c44cf90c"
   },
   "outputs": [
    {
     "data": {
      "image/png": "[encoded data removed]",
      "text/plain": [
       "<matplotlib.figure.Figure at 0x7fbb70150a58>"
      ]
     },
     "metadata": {
      "tags": []
     },
     "output_type": "display_data"
    }
   ],
   "source": [
    "epochs = 4\n",
    "%matplotlib inline\n",
    "fig,ax = plt.subplots(1,1)\n",
    "ax.set_xlabel('epoch') ; ax.set_ylabel('Categorical Crossentropy Loss')\n",
    "vy = history1.history['val_loss']\n",
    "ty = history1.history['loss']\n",
    "x = list(range(1,epochs+1))\n",
    "ax.plot(x, vy, 'b', label=\"Validation Loss\")\n",
    "ax.plot(x, ty, 'r', label=\"Train Loss\")\n",
    "plt.legend()\n",
    "plt.grid()\n",
    "fig.canvas.draw()"
   ]
  },
  {
   "cell_type": "markdown",
   "metadata": {
    "colab_type": "text",
    "id": "wpQKO0nf5k-v"
   },
   "source": [
    "### Observations"
   ]
  },
  {
   "cell_type": "markdown",
   "metadata": {
    "colab_type": "text",
    "id": "on0r03FU5ns1"
   },
   "source": [
    "1. It can be observed that as the number of LSTM layers are increased, the performance of the model can be improved. \n",
    "\n",
    "2. Also the difference between the validation loss and the test loss can be reduced by increasing more LSTM layers and also increaseing the number of reviews in which the model is trained upon."
   ]
  }
 ],
 "metadata": {
  "accelerator": "GPU",
  "colab": {
   "collapsed_sections": [],
   "name": "LSTM_MNIST_Sriram.ipynb",
   "provenance": [],
   "version": "0.3.2"
  },
  "kernelspec": {
   "display_name": "Python 3",
   "language": "python",
   "name": "python3"
  },
  "language_info": {
   "codemirror_mode": {
    "name": "ipython",
    "version": 3
   },
   "file_extension": ".py",
   "mimetype": "text/x-python",
   "name": "python",
   "nbconvert_exporter": "python",
   "pygments_lexer": "ipython3",
   "version": "3.6.5"
  }
 },
 "nbformat": 4,
 "nbformat_minor": 1
}
